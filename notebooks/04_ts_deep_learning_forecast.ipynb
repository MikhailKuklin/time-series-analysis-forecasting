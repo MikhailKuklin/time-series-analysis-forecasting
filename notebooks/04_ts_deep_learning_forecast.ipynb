{
  "nbformat": 4,
  "nbformat_minor": 0,
  "metadata": {
    "colab": {
      "name": "04_ts_deep_learning_forecast.ipynb",
      "provenance": [],
      "authorship_tag": "ABX9TyMVgki/w3ypXK86Ks5J/uLC",
      "include_colab_link": true
    },
    "kernelspec": {
      "name": "python3",
      "display_name": "Python 3"
    },
    "language_info": {
      "name": "python"
    }
  },
  "cells": [
    {
      "cell_type": "markdown",
      "metadata": {
        "id": "view-in-github",
        "colab_type": "text"
      },
      "source": [
        "<a href=\"https://colab.research.google.com/github/MikhailKuklin/time-series-analysis-forecasting/blob/main/notebooks/04_ts_deep_learning_forecast.ipynb\" target=\"_parent\"><img src=\"https://colab.research.google.com/assets/colab-badge.svg\" alt=\"Open In Colab\"/></a>"
      ]
    },
    {
      "cell_type": "code",
      "execution_count": 1,
      "metadata": {
        "id": "2uNyeAnKTrcM"
      },
      "outputs": [],
      "source": [
        "# import libraries\n",
        "\n",
        "import keras\n",
        "import matplotlib.pyplot as plt\n",
        "import pandas as pd\n",
        "import numpy as np"
      ]
    },
    {
      "cell_type": "code",
      "source": [
        "# download data\n",
        "\n",
        "df = pd.read_csv('espoo_2020_2022.csv',\n",
        "                 parse_dates= {\"date\" : [\"Year\",\"m\",\"d\"]})\n",
        "\n",
        "df.dropna(axis=0,inplace=True)\n",
        "\n",
        "df = df.groupby(['date']).mean()\n",
        "\n",
        "df.index.freq = \"D\"\n",
        "\n",
        "# non-stationary data\n",
        "\n",
        "df = df.iloc[0:185]\n",
        "\n",
        "df.plot();"
      ],
      "metadata": {
        "colab": {
          "base_uri": "https://localhost:8080/",
          "height": 291
        },
        "id": "zmbW9lTAaGZD",
        "outputId": "5c52a382-7829-47db-a0a1-9a6e790ae040"
      },
      "execution_count": 2,
      "outputs": [
        {
          "output_type": "display_data",
          "data": {
            "text/plain": [
              "<Figure size 432x288 with 1 Axes>"
            ],
            "image/png": "[encoded data removed]"
          },
          "metadata": {
            "needs_background": "light"
          }
        }
      ]
    },
    {
      "cell_type": "code",
      "source": [
        "len(df)"
      ],
      "metadata": {
        "colab": {
          "base_uri": "https://localhost:8080/"
        },
        "id": "UQdsaW0Lwazp",
        "outputId": "d2345a75-dafa-4658-94e4-b3bbda84ce5e"
      },
      "execution_count": 3,
      "outputs": [
        {
          "output_type": "execute_result",
          "data": {
            "text/plain": [
              "185"
            ]
          },
          "metadata": {},
          "execution_count": 3
        }
      ]
    },
    {
      "cell_type": "code",
      "source": [
        "# split into train and test sets\n",
        "\n",
        "train = df.iloc[:175]\n",
        "\n",
        "test = df.iloc[175:]"
      ],
      "metadata": {
        "id": "7dN6nkAAmTCV"
      },
      "execution_count": 4,
      "outputs": []
    },
    {
      "cell_type": "code",
      "source": [
        "len(test)"
      ],
      "metadata": {
        "colab": {
          "base_uri": "https://localhost:8080/"
        },
        "id": "wozE-TEtvNLQ",
        "outputId": "866cd284-fec1-4883-f139-cdaf54d735df"
      },
      "execution_count": 5,
      "outputs": [
        {
          "output_type": "execute_result",
          "data": {
            "text/plain": [
              "10"
            ]
          },
          "metadata": {},
          "execution_count": 5
        }
      ]
    },
    {
      "cell_type": "code",
      "source": [
        "# scale \n",
        "\n",
        "from sklearn.preprocessing import MinMaxScaler\n",
        "\n",
        "scaler = MinMaxScaler()\n",
        "scaler.fit(train)\n",
        "scaled_train = scaler.transform(train)\n",
        "scaled_test = scaler.transform(test)"
      ],
      "metadata": {
        "id": "ae3MG7iomMWW"
      },
      "execution_count": 6,
      "outputs": []
    },
    {
      "cell_type": "code",
      "source": [
        "# generate TS \n",
        "\n",
        "from keras.preprocessing.sequence import TimeseriesGenerator\n",
        "\n",
        "n_input = 30\n",
        "n_features =1\n",
        "\n",
        "generator = TimeseriesGenerator(scaled_train, scaled_train, length=n_input, batch_size=1)"
      ],
      "metadata": {
        "id": "0n7Xn4mknGEY"
      },
      "execution_count": 7,
      "outputs": []
    },
    {
      "cell_type": "code",
      "source": [
        "# create LSTM model in keras\n",
        "\n",
        "from keras.models import Sequential\n",
        "from keras.layers import Dense\n",
        "from keras.layers import LSTM\n",
        "\n",
        "model = Sequential()\n",
        "model.add(LSTM(100, activation='relu', input_shape=(n_input, n_features)))\n",
        "model.add(Dense(1))\n",
        "model.compile(optimizer='adam', loss='mse')\n",
        "\n",
        "model.summary()"
      ],
      "metadata": {
        "colab": {
          "base_uri": "https://localhost:8080/"
        },
        "id": "L3nVMrVko6-K",
        "outputId": "53b39eb6-6e73-4400-8a08-41d29ee4d113"
      },
      "execution_count": 8,
      "outputs": [
        {
          "output_type": "stream",
          "name": "stdout",
          "text": [
            "Model: \"sequential\"\n",
            "_________________________________________________________________\n",
            " Layer (type)                Output Shape              Param #   \n",
            "=================================================================\n",
            " lstm (LSTM)                 (None, 100)               40800     \n",
            "                                                                 \n",
            " dense (Dense)               (None, 1)                 101       \n",
            "                                                                 \n",
            "=================================================================\n",
            "Total params: 40,901\n",
            "Trainable params: 40,901\n",
            "Non-trainable params: 0\n",
            "_________________________________________________________________\n"
          ]
        }
      ]
    },
    {
      "cell_type": "code",
      "source": [
        "# fit model\n",
        "model.fit_generator(generator,epochs=50)"
      ],
      "metadata": {
        "colab": {
          "base_uri": "https://localhost:8080/"
        },
        "id": "37j1uQZApeTl",
        "outputId": "58c1e4f1-4db1-43c7-dca1-9b32cfe82112"
      },
      "execution_count": 9,
      "outputs": [
        {
          "output_type": "stream",
          "name": "stdout",
          "text": [
            "Epoch 1/50\n"
          ]
        },
        {
          "output_type": "stream",
          "name": "stderr",
          "text": [
            "/usr/local/lib/python3.7/dist-packages/ipykernel_launcher.py:2: UserWarning: `Model.fit_generator` is deprecated and will be removed in a future version. Please use `Model.fit`, which supports generators.\n",
            "  \n"
          ]
        },
        {
          "output_type": "stream",
          "name": "stdout",
          "text": [
            "145/145 [==============================] - 3s 12ms/step - loss: 0.0379\n",
            "Epoch 2/50\n",
            "145/145 [==============================] - 2s 12ms/step - loss: 0.0180\n",
            "Epoch 3/50\n",
            "145/145 [==============================] - 2s 12ms/step - loss: 0.0132\n",
            "Epoch 4/50\n",
            "145/145 [==============================] - 2s 13ms/step - loss: 0.0130\n",
            "Epoch 5/50\n",
            "145/145 [==============================] - 2s 12ms/step - loss: 0.0142\n",
            "Epoch 6/50\n",
            "145/145 [==============================] - 2s 12ms/step - loss: 0.0119\n",
            "Epoch 7/50\n",
            "145/145 [==============================] - 2s 12ms/step - loss: 0.0116\n",
            "Epoch 8/50\n",
            "145/145 [==============================] - 2s 13ms/step - loss: 0.0109\n",
            "Epoch 9/50\n",
            "145/145 [==============================] - 2s 12ms/step - loss: 0.0118\n",
            "Epoch 10/50\n",
            "145/145 [==============================] - 2s 12ms/step - loss: 0.0107\n",
            "Epoch 11/50\n",
            "145/145 [==============================] - 2s 12ms/step - loss: 0.0103\n",
            "Epoch 12/50\n",
            "145/145 [==============================] - 2s 12ms/step - loss: 0.0114\n",
            "Epoch 13/50\n",
            "145/145 [==============================] - 2s 12ms/step - loss: 0.0099\n",
            "Epoch 14/50\n",
            "145/145 [==============================] - 2s 13ms/step - loss: 0.0103\n",
            "Epoch 15/50\n",
            "145/145 [==============================] - 2s 12ms/step - loss: 0.0101\n",
            "Epoch 16/50\n",
            "145/145 [==============================] - 2s 12ms/step - loss: 0.0114\n",
            "Epoch 17/50\n",
            "145/145 [==============================] - 2s 12ms/step - loss: 0.0099\n",
            "Epoch 18/50\n",
            "145/145 [==============================] - 2s 12ms/step - loss: 0.0091\n",
            "Epoch 19/50\n",
            "145/145 [==============================] - 2s 12ms/step - loss: 0.0092\n",
            "Epoch 20/50\n",
            "145/145 [==============================] - 2s 12ms/step - loss: 0.0092\n",
            "Epoch 21/50\n",
            "145/145 [==============================] - 2s 12ms/step - loss: 0.0091\n",
            "Epoch 22/50\n",
            "145/145 [==============================] - 2s 12ms/step - loss: 0.0093\n",
            "Epoch 23/50\n",
            "145/145 [==============================] - 2s 11ms/step - loss: 0.0084\n",
            "Epoch 24/50\n",
            "145/145 [==============================] - 2s 11ms/step - loss: 0.0080\n",
            "Epoch 25/50\n",
            "145/145 [==============================] - 2s 12ms/step - loss: 0.0077\n",
            "Epoch 26/50\n",
            "145/145 [==============================] - 2s 11ms/step - loss: 0.0074\n",
            "Epoch 27/50\n",
            "145/145 [==============================] - 2s 12ms/step - loss: 0.0072\n",
            "Epoch 28/50\n",
            "145/145 [==============================] - 2s 12ms/step - loss: 0.0075\n",
            "Epoch 29/50\n",
            "145/145 [==============================] - 2s 11ms/step - loss: 0.0075\n",
            "Epoch 30/50\n",
            "145/145 [==============================] - 2s 12ms/step - loss: 0.0070\n",
            "Epoch 31/50\n",
            "145/145 [==============================] - 2s 12ms/step - loss: 0.0074\n",
            "Epoch 32/50\n",
            "145/145 [==============================] - 2s 12ms/step - loss: 0.0066\n",
            "Epoch 33/50\n",
            "145/145 [==============================] - 2s 12ms/step - loss: 0.0068\n",
            "Epoch 34/50\n",
            "145/145 [==============================] - 2s 12ms/step - loss: 0.0066\n",
            "Epoch 35/50\n",
            "145/145 [==============================] - 2s 12ms/step - loss: 0.0067\n",
            "Epoch 36/50\n",
            "145/145 [==============================] - 3s 18ms/step - loss: 0.0063\n",
            "Epoch 37/50\n",
            "145/145 [==============================] - 2s 12ms/step - loss: 0.0063\n",
            "Epoch 38/50\n",
            "145/145 [==============================] - 2s 12ms/step - loss: 0.0065\n",
            "Epoch 39/50\n",
            "145/145 [==============================] - 2s 12ms/step - loss: 0.0066\n",
            "Epoch 40/50\n",
            "145/145 [==============================] - 2s 11ms/step - loss: 0.0066\n",
            "Epoch 41/50\n",
            "145/145 [==============================] - 2s 11ms/step - loss: 0.0057\n",
            "Epoch 42/50\n",
            "145/145 [==============================] - 2s 12ms/step - loss: 0.0061\n",
            "Epoch 43/50\n",
            "145/145 [==============================] - 2s 11ms/step - loss: 0.0065\n",
            "Epoch 44/50\n",
            "145/145 [==============================] - 2s 12ms/step - loss: 0.0061\n",
            "Epoch 45/50\n",
            "145/145 [==============================] - 2s 12ms/step - loss: 0.0063\n",
            "Epoch 46/50\n",
            "145/145 [==============================] - 2s 12ms/step - loss: 0.0063\n",
            "Epoch 47/50\n",
            "145/145 [==============================] - 2s 12ms/step - loss: 0.0062\n",
            "Epoch 48/50\n",
            "145/145 [==============================] - 2s 12ms/step - loss: 0.0065\n",
            "Epoch 49/50\n",
            "145/145 [==============================] - 3s 18ms/step - loss: 0.0064\n",
            "Epoch 50/50\n",
            "145/145 [==============================] - 2s 12ms/step - loss: 0.0063\n"
          ]
        },
        {
          "output_type": "execute_result",
          "data": {
            "text/plain": [
              "<keras.callbacks.History at 0x7f68207a0490>"
            ]
          },
          "metadata": {},
          "execution_count": 9
        }
      ]
    },
    {
      "cell_type": "code",
      "source": [
        "# plot errors\n",
        "\n",
        "loss_per_epoch = model.history.history['loss']\n",
        "plt.plot(range(len(loss_per_epoch)),loss_per_epoch)"
      ],
      "metadata": {
        "colab": {
          "base_uri": "https://localhost:8080/",
          "height": 283
        },
        "id": "iOe6fTaeqBzG",
        "outputId": "eb194be2-2f2f-402c-c8ca-ab7d48f88fe3"
      },
      "execution_count": 10,
      "outputs": [
        {
          "output_type": "execute_result",
          "data": {
            "text/plain": [
              "[<matplotlib.lines.Line2D at 0x7f681eeb1610>]"
            ]
          },
          "metadata": {},
          "execution_count": 10
        },
        {
          "output_type": "display_data",
          "data": {
            "text/plain": [
              "<Figure size 432x288 with 1 Axes>"
            ],
            "image/png": "[encoded data removed]"
          },
          "metadata": {
            "needs_background": "light"
          }
        }
      ]
    },
    {
      "cell_type": "code",
      "source": [
        "# evaluation\n",
        "\n",
        "test_predictions = []\n",
        "\n",
        "first_eval_batch = scaled_train[-n_input:]\n",
        "current_batch = first_eval_batch.reshape((1, n_input, n_features))\n",
        "\n",
        "for i in range(len(test)):\n",
        "    \n",
        "    # get prediction 1 time stamp ahead ([0] is for grabbing just the number instead of [array])\n",
        "    current_pred = model.predict(current_batch)[0]\n",
        "    \n",
        "    # store prediction\n",
        "    test_predictions.append(current_pred) \n",
        "    \n",
        "    # update batch to now include prediction and drop first value\n",
        "    current_batch = np.append(current_batch[:,1:,:],[[current_pred]],axis=1)"
      ],
      "metadata": {
        "id": "HLEg9NoyqG_S"
      },
      "execution_count": 11,
      "outputs": []
    },
    {
      "cell_type": "code",
      "source": [
        "plt.plot(test_predictions)\n",
        "plt.plot(scaled_test)"
      ],
      "metadata": {
        "colab": {
          "base_uri": "https://localhost:8080/",
          "height": 286
        },
        "id": "PhnaHJ61qrZI",
        "outputId": "90956c27-c229-4855-8a3a-4175997ede58"
      },
      "execution_count": 12,
      "outputs": [
        {
          "output_type": "execute_result",
          "data": {
            "text/plain": [
              "[<matplotlib.lines.Line2D at 0x7f681e476950>]"
            ]
          },
          "metadata": {},
          "execution_count": 12
        },
        {
          "output_type": "display_data",
          "data": {
            "text/plain": [
              "<Figure size 432x288 with 1 Axes>"
            ],
            "image/png": "[encoded data removed]"
          },
          "metadata": {
            "needs_background": "light"
          }
        }
      ]
    },
    {
      "cell_type": "code",
      "source": [
        "# inverse transformation and compare\n",
        "\n",
        "true_predictions = scaler.inverse_transform(test_predictions)\n",
        "test['Predictions'] = true_predictions\n",
        "\n",
        "test.plot(figsize=(12,8))"
      ],
      "metadata": {
        "colab": {
          "base_uri": "https://localhost:8080/",
          "height": 665
        },
        "id": "F5NiUz4srJ1D",
        "outputId": "d02ed4b6-6cd2-44a3-f858-ca176e8fccf5"
      },
      "execution_count": 13,
      "outputs": [
        {
          "output_type": "stream",
          "name": "stderr",
          "text": [
            "/usr/local/lib/python3.7/dist-packages/ipykernel_launcher.py:4: SettingWithCopyWarning: \n",
            "A value is trying to be set on a copy of a slice from a DataFrame.\n",
            "Try using .loc[row_indexer,col_indexer] = value instead\n",
            "\n",
            "See the caveats in the documentation: https://pandas.pydata.org/pandas-docs/stable/user_guide/indexing.html#returning-a-view-versus-a-copy\n",
            "  after removing the cwd from sys.path.\n"
          ]
        },
        {
          "output_type": "execute_result",
          "data": {
            "text/plain": [
              "<matplotlib.axes._subplots.AxesSubplot at 0x7f681e437e10>"
            ]
          },
          "metadata": {},
          "execution_count": 13
        },
        {
          "output_type": "display_data",
          "data": {
            "text/plain": [
              "<Figure size 864x576 with 1 Axes>"
            ],
            "image/png": "[encoded data removed]"
          },
          "metadata": {
            "needs_background": "light"
          }
        }
      ]
    },
    {
      "cell_type": "code",
      "source": [
        "# svae and load model\n",
        "\n",
        "model.save('rnn_forecast.h5')\n",
        "\n",
        "from keras.models import load_model\n",
        "model_forecast = load_model('rnn_forecast.h5')\n",
        "\n",
        "model_forecast.summary()"
      ],
      "metadata": {
        "colab": {
          "base_uri": "https://localhost:8080/"
        },
        "id": "qtp1jWeW2E5n",
        "outputId": "c44c814e-ba68-44aa-cc24-7fbdfcc537bb"
      },
      "execution_count": 14,
      "outputs": [
        {
          "output_type": "stream",
          "name": "stdout",
          "text": [
            "Model: \"sequential\"\n",
            "_________________________________________________________________\n",
            " Layer (type)                Output Shape              Param #   \n",
            "=================================================================\n",
            " lstm (LSTM)                 (None, 100)               40800     \n",
            "                                                                 \n",
            " dense (Dense)               (None, 1)                 101       \n",
            "                                                                 \n",
            "=================================================================\n",
            "Total params: 40,901\n",
            "Trainable params: 40,901\n",
            "Non-trainable params: 0\n",
            "_________________________________________________________________\n"
          ]
        }
      ]
    }
  ]
}